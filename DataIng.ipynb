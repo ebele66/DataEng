{
 "cells": [
  {
   "cell_type": "code",
   "execution_count": 1,
   "metadata": {
    "collapsed": true,
    "pycharm": {
     "is_executing": false,
     "name": "#%%\n"
    }
   },
   "outputs": [
    {
     "name": "stdout",
     "text": [
      "      TractId    State          County  TotalPop   Men  Women  Hispanic  \\\n",
      "0  1001020100  Alabama  Autauga County      1845   899    946       2.4   \n",
      "1  1001020200  Alabama  Autauga County      2172  1167   1005       1.1   \n",
      "2  1001020300  Alabama  Autauga County      3385  1533   1852       8.0   \n",
      "3  1001020400  Alabama  Autauga County      4267  2001   2266       9.6   \n",
      "4  1001020500  Alabama  Autauga County      9965  5054   4911       0.9   \n",
      "\n",
      "   White  Black  Native  ...  Walk  OtherTransp  WorkAtHome  MeanCommute  \\\n",
      "0   86.3    5.2     0.0  ...   0.5          0.0         2.1         24.5   \n",
      "1   41.6   54.5     0.0  ...   0.0          0.5         0.0         22.2   \n",
      "2   61.4   26.5     0.6  ...   1.0          0.8         1.5         23.1   \n",
      "3   80.3    7.1     0.5  ...   1.5          2.9         2.1         25.9   \n",
      "4   77.5   16.4     0.0  ...   0.8          0.3         0.7         21.0   \n",
      "\n",
      "   Employed  PrivateWork  PublicWork  SelfEmployed  FamilyWork  Unemployment  \n",
      "0       881         74.2        21.2           4.5         0.0           4.6  \n",
      "1       852         75.9        15.0           9.0         0.0           3.4  \n",
      "2      1482         73.3        21.1           4.8         0.7           4.7  \n",
      "3      1849         75.8        19.7           4.5         0.0           6.1  \n",
      "4      4787         71.4        24.1           4.5         0.0           2.3  \n",
      "\n",
      "[5 rows x 37 columns]\n"
     ],
     "output_type": "stream"
    },
    {
     "data": {
      "text/plain": "     State          County  TotalPop   Income  IncomePerCap  Poverty\n0  Alabama  Autauga County      1845  67826.0       33018.0     10.7\n1  Alabama  Autauga County      2172  41287.0       18996.0     22.4\n2  Alabama  Autauga County      3385  46806.0       21236.0     14.7\n3  Alabama  Autauga County      4267  55895.0       28068.0      2.3\n4  Alabama  Autauga County      9965  68143.0       36905.0     12.2",
      "text/html": "<div>\n<style scoped>\n    .dataframe tbody tr th:only-of-type {\n        vertical-align: middle;\n    }\n\n    .dataframe tbody tr th {\n        vertical-align: top;\n    }\n\n    .dataframe thead th {\n        text-align: right;\n    }\n</style>\n<table border=\"1\" class=\"dataframe\">\n  <thead>\n    <tr style=\"text-align: right;\">\n      <th></th>\n      <th>State</th>\n      <th>County</th>\n      <th>TotalPop</th>\n      <th>Income</th>\n      <th>IncomePerCap</th>\n      <th>Poverty</th>\n    </tr>\n  </thead>\n  <tbody>\n    <tr>\n      <th>0</th>\n      <td>Alabama</td>\n      <td>Autauga County</td>\n      <td>1845</td>\n      <td>67826.0</td>\n      <td>33018.0</td>\n      <td>10.7</td>\n    </tr>\n    <tr>\n      <th>1</th>\n      <td>Alabama</td>\n      <td>Autauga County</td>\n      <td>2172</td>\n      <td>41287.0</td>\n      <td>18996.0</td>\n      <td>22.4</td>\n    </tr>\n    <tr>\n      <th>2</th>\n      <td>Alabama</td>\n      <td>Autauga County</td>\n      <td>3385</td>\n      <td>46806.0</td>\n      <td>21236.0</td>\n      <td>14.7</td>\n    </tr>\n    <tr>\n      <th>3</th>\n      <td>Alabama</td>\n      <td>Autauga County</td>\n      <td>4267</td>\n      <td>55895.0</td>\n      <td>28068.0</td>\n      <td>2.3</td>\n    </tr>\n    <tr>\n      <th>4</th>\n      <td>Alabama</td>\n      <td>Autauga County</td>\n      <td>9965</td>\n      <td>68143.0</td>\n      <td>36905.0</td>\n      <td>12.2</td>\n    </tr>\n  </tbody>\n</table>\n</div>"
     },
     "metadata": {},
     "output_type": "execute_result",
     "execution_count": 1
    }
   ],
   "source": [
    "# Data Integration Activity\n",
    "import pandas as pd\n",
    "import datetime\n",
    "import matplotlib.pyplot as plt\n",
    "import seaborn\n",
    "\n",
    "# Aggregate Census Data\n",
    "census_data = pd.read_csv('acs2017_census_tract_data.csv')\n",
    "print(census_data.head())\n",
    "census_data = pd.concat([census_data[\"State\"], census_data[\"County\"], census_data[\"TotalPop\"], census_data[\"Income\"], census_data[\"IncomePerCap\"], census_data[\"Poverty\"]],axis=1)\n",
    "census_data.head()"
   ]
  },
  {
   "cell_type": "code",
   "execution_count": 2,
   "outputs": [
    {
     "name": "stdout",
     "text": [
      "         date     county       state     fips  cases  deaths\n",
      "0  2020-01-21  Snohomish  Washington  53061.0      1     0.0\n",
      "1  2020-01-22  Snohomish  Washington  53061.0      1     0.0\n",
      "2  2020-01-23  Snohomish  Washington  53061.0      1     0.0\n",
      "3  2020-01-24       Cook    Illinois  17031.0      1     0.0\n",
      "4  2020-01-24  Snohomish  Washington  53061.0      1     0.0\n"
     ],
     "output_type": "stream"
    },
    {
     "data": {
      "text/plain": "                    cases   deaths\nstate   county                    \nAlabama Autauga    645935   9042.0\n        Baldwin   2003567  23041.0\n        Barbour    268771   4077.0\n        Bibb       261043   5272.0\n        Blount     630106   8669.0\n...                   ...      ...\nWyoming Teton      305376    617.0\n        Uinta      200783   1037.0\n        Unknown        37      0.0\n        Washakie    84354   2622.0\n        Weston      56976    286.0\n\n[3274 rows x 2 columns]",
      "text/html": "<div>\n<style scoped>\n    .dataframe tbody tr th:only-of-type {\n        vertical-align: middle;\n    }\n\n    .dataframe tbody tr th {\n        vertical-align: top;\n    }\n\n    .dataframe thead th {\n        text-align: right;\n    }\n</style>\n<table border=\"1\" class=\"dataframe\">\n  <thead>\n    <tr style=\"text-align: right;\">\n      <th></th>\n      <th></th>\n      <th>cases</th>\n      <th>deaths</th>\n    </tr>\n    <tr>\n      <th>state</th>\n      <th>county</th>\n      <th></th>\n      <th></th>\n    </tr>\n  </thead>\n  <tbody>\n    <tr>\n      <th rowspan=\"5\" valign=\"top\">Alabama</th>\n      <th>Autauga</th>\n      <td>645935</td>\n      <td>9042.0</td>\n    </tr>\n    <tr>\n      <th>Baldwin</th>\n      <td>2003567</td>\n      <td>23041.0</td>\n    </tr>\n    <tr>\n      <th>Barbour</th>\n      <td>268771</td>\n      <td>4077.0</td>\n    </tr>\n    <tr>\n      <th>Bibb</th>\n      <td>261043</td>\n      <td>5272.0</td>\n    </tr>\n    <tr>\n      <th>Blount</th>\n      <td>630106</td>\n      <td>8669.0</td>\n    </tr>\n    <tr>\n      <th>...</th>\n      <th>...</th>\n      <td>...</td>\n      <td>...</td>\n    </tr>\n    <tr>\n      <th rowspan=\"5\" valign=\"top\">Wyoming</th>\n      <th>Teton</th>\n      <td>305376</td>\n      <td>617.0</td>\n    </tr>\n    <tr>\n      <th>Uinta</th>\n      <td>200783</td>\n      <td>1037.0</td>\n    </tr>\n    <tr>\n      <th>Unknown</th>\n      <td>37</td>\n      <td>0.0</td>\n    </tr>\n    <tr>\n      <th>Washakie</th>\n      <td>84354</td>\n      <td>2622.0</td>\n    </tr>\n    <tr>\n      <th>Weston</th>\n      <td>56976</td>\n      <td>286.0</td>\n    </tr>\n  </tbody>\n</table>\n<p>3274 rows × 2 columns</p>\n</div>"
     },
     "metadata": {},
     "output_type": "execute_result",
     "execution_count": 2
    }
   ],
   "source": [
    "# Aggregate Covid Data\n",
    "covid_data = pd.read_csv('COVID_county_data.csv')\n",
    "print(covid_data.head())\n",
    "covid_data[\"date\"] = pd.to_datetime(covid_data[\"date\"])\n",
    "df1 = covid_data.drop(labels=\"fips\",axis=1)\n",
    "df2 = df1.groupby([\"state\", \"county\"]).sum()\n",
    "df2"
   ],
   "metadata": {
    "collapsed": false,
    "pycharm": {
     "name": "#%%\n",
     "is_executing": false
    }
   }
  },
  {
   "cell_type": "code",
   "execution_count": 3,
   "outputs": [],
   "source": [
    "# Derive totals for December 2020\n",
    "start = datetime.datetime(2020, 12, 1)\n",
    "end = datetime.datetime(2020, 12, 31)\n",
    "df3 = df1[df1[\"date\"].isin(pd.date_range(start,end))]\n",
    "df4 = df3.groupby([\"state\", \"county\"]).sum()\n",
    "df4.columns = [\"dec2020_cases\", \"dec2020_deaths\"]"
   ],
   "metadata": {
    "collapsed": false,
    "pycharm": {
     "name": "#%%\n",
     "is_executing": false
    }
   }
  },
  {
   "cell_type": "code",
   "execution_count": 4,
   "outputs": [
    {
     "data": {
      "text/plain": "                cases   deaths  dec2020_cases  dec2020_deaths\nLoudoun     2496450.0  35820.0       376223.0          4729.0\nWashington  2157339.0  22455.0       424620.0          3860.0\nHarlan       205984.0   3994.0        38959.0           506.0\nMalheur      453634.0   7770.0        82916.0          1465.0",
      "text/html": "<div>\n<style scoped>\n    .dataframe tbody tr th:only-of-type {\n        vertical-align: middle;\n    }\n\n    .dataframe tbody tr th {\n        vertical-align: top;\n    }\n\n    .dataframe thead th {\n        text-align: right;\n    }\n</style>\n<table border=\"1\" class=\"dataframe\">\n  <thead>\n    <tr style=\"text-align: right;\">\n      <th></th>\n      <th>cases</th>\n      <th>deaths</th>\n      <th>dec2020_cases</th>\n      <th>dec2020_deaths</th>\n    </tr>\n  </thead>\n  <tbody>\n    <tr>\n      <th>Loudoun</th>\n      <td>2496450.0</td>\n      <td>35820.0</td>\n      <td>376223.0</td>\n      <td>4729.0</td>\n    </tr>\n    <tr>\n      <th>Washington</th>\n      <td>2157339.0</td>\n      <td>22455.0</td>\n      <td>424620.0</td>\n      <td>3860.0</td>\n    </tr>\n    <tr>\n      <th>Harlan</th>\n      <td>205984.0</td>\n      <td>3994.0</td>\n      <td>38959.0</td>\n      <td>506.0</td>\n    </tr>\n    <tr>\n      <th>Malheur</th>\n      <td>453634.0</td>\n      <td>7770.0</td>\n      <td>82916.0</td>\n      <td>1465.0</td>\n    </tr>\n  </tbody>\n</table>\n</div>"
     },
     "metadata": {},
     "output_type": "execute_result",
     "execution_count": 4
    }
   ],
   "source": [
    "# Dataframe for covid aggregate data\n",
    "covid_agg = df2.join(df4)\n",
    "covid_agg\n",
    "\n",
    "# Sample results from some counties\n",
    "sample = [(\"Virginia\", \"Loudoun\"), (\"Oregon\", \"Washington\"), (\"Kentucky\", \"Harlan\"), (\"Oregon\", \"Malheur\")]\n",
    "df5 = []\n",
    "for s,c in sample:\n",
    "    df5.append(covid_agg.loc[s].loc[c])\n",
    "df5 = pd.DataFrame(df5)\n",
    "df5"
   ],
   "metadata": {
    "collapsed": false,
    "pycharm": {
     "name": "#%%\n",
     "is_executing": false
    }
   }
  },
  {
   "cell_type": "code",
   "execution_count": 5,
   "outputs": [],
   "source": [
    "# Generate raw numbers for poverty rate per county \n",
    "census_data = census_data.assign(pov_nos=census_data[\"Poverty\"] * census_data[\"TotalPop\"] / 100)\n",
    "census_data\n",
    "df8 = census_data.groupby([\"State\", \"County\"]).sum()"
   ],
   "metadata": {
    "collapsed": false,
    "pycharm": {
     "name": "#%%\n",
     "is_executing": false
    }
   }
  },
  {
   "cell_type": "code",
   "execution_count": 6,
   "outputs": [],
   "source": [
    "# Generate Poverty percent of total population  by county\n",
    "df8[\"Poverty\"] = (df8[\"pov_nos\"] * 100)/  df8[\"TotalPop\"]\n",
    "# Generate Income per capital per county by dividing the total income of the county by its total poopulation\n",
    "df8[\"IncomePerCap\"] = (df8[\"Income\"] / df8[\"TotalPop\"])\n",
    "df8\n",
    "\n",
    "# Dataframe for census aggregate data\n",
    "census_agg = df8.drop(labels=\"pov_nos\", axis=1)"
   ],
   "metadata": {
    "collapsed": false,
    "pycharm": {
     "name": "#%%\n",
     "is_executing": false
    }
   }
  },
  {
   "cell_type": "code",
   "execution_count": 7,
   "outputs": [
    {
     "data": {
      "text/plain": "                   TotalPop     Income  IncomePerCap    Poverty\nLoudoun County     374558.0  8298861.0     22.156411   3.689598\nWashington County  572071.0  7961909.0     13.917694  10.321202\nHarlan County       27548.0   291194.0     10.570423  35.669482\nMalheur County      30421.0   272162.0      8.946517  24.298225",
      "text/html": "<div>\n<style scoped>\n    .dataframe tbody tr th:only-of-type {\n        vertical-align: middle;\n    }\n\n    .dataframe tbody tr th {\n        vertical-align: top;\n    }\n\n    .dataframe thead th {\n        text-align: right;\n    }\n</style>\n<table border=\"1\" class=\"dataframe\">\n  <thead>\n    <tr style=\"text-align: right;\">\n      <th></th>\n      <th>TotalPop</th>\n      <th>Income</th>\n      <th>IncomePerCap</th>\n      <th>Poverty</th>\n    </tr>\n  </thead>\n  <tbody>\n    <tr>\n      <th>Loudoun County</th>\n      <td>374558.0</td>\n      <td>8298861.0</td>\n      <td>22.156411</td>\n      <td>3.689598</td>\n    </tr>\n    <tr>\n      <th>Washington County</th>\n      <td>572071.0</td>\n      <td>7961909.0</td>\n      <td>13.917694</td>\n      <td>10.321202</td>\n    </tr>\n    <tr>\n      <th>Harlan County</th>\n      <td>27548.0</td>\n      <td>291194.0</td>\n      <td>10.570423</td>\n      <td>35.669482</td>\n    </tr>\n    <tr>\n      <th>Malheur County</th>\n      <td>30421.0</td>\n      <td>272162.0</td>\n      <td>8.946517</td>\n      <td>24.298225</td>\n    </tr>\n  </tbody>\n</table>\n</div>"
     },
     "metadata": {},
     "output_type": "execute_result",
     "execution_count": 7
    }
   ],
   "source": [
    "# Sample results from some counties\n",
    "sample = [(\"Virginia\", \"Loudoun County\"), (\"Oregon\", \"Washington County\"), (\"Kentucky\", \"Harlan County\"), (\"Oregon\", \"Malheur County\")]\n",
    "df5 = []\n",
    "for s,c in sample:\n",
    "    df5.append(census_agg.loc[s].loc[c])\n",
    "df5 = pd.DataFrame(df5)\n",
    "df5"
   ],
   "metadata": {
    "collapsed": false,
    "pycharm": {
     "name": "#%%\n",
     "is_executing": false
    }
   }
  },
  {
   "cell_type": "code",
   "execution_count": 8,
   "outputs": [],
   "source": [
    "census_agg.reset_index(level=['State','County'],inplace=True)\n",
    "covid_agg.reset_index(level=['state','county'], inplace=True)"
   ],
   "metadata": {
    "collapsed": false,
    "pycharm": {
     "name": "#%%\n",
     "is_executing": false
    }
   }
  },
  {
   "cell_type": "code",
   "execution_count": 9,
   "outputs": [
    {
     "name": "stdout",
     "text": [
      "{'Guam', 'Northern Mariana Islands', 'Virgin Islands'}\n"
     ],
     "output_type": "stream"
    },
    {
     "name": "stderr",
     "text": [
      "c:\\users\\hebel\\appdata\\local\\programs\\python\\python38-32\\lib\\site-packages\\pandas\\core\\indexing.py:1675: SettingWithCopyWarning: \n",
      "A value is trying to be set on a copy of a slice from a DataFrame.\n",
      "Try using .loc[row_indexer,col_indexer] = value instead\n",
      "\n",
      "See the caveats in the documentation: https://pandas.pydata.org/pandas-docs/stable/user_guide/indexing.html#returning-a-view-versus-a-copy\n",
      "  self._setitem_single_column(ilocs[0], value, pi)\n"
     ],
     "output_type": "stream"
    }
   ],
   "source": [
    "# Prep for integration of census_agg and covid_agg\n",
    "s1 = set(covid_agg[\"state\"].unique())\n",
    "s2 = set(census_agg[\"State\"].unique())\n",
    "print(s1 -s2)\n",
    "census_agg[\"County\"] = census_agg[\"County\"].str[:-7]\n",
    "census_agg[census_agg[\"State\"] == \"Puerto Rico\"].loc[:, \"County\"] = census_agg[census_agg[\"State\"] == \"Puerto Rico\"][\"County\"].str[:-3]"
   ],
   "metadata": {
    "collapsed": false,
    "pycharm": {
     "name": "#%%\n",
     "is_executing": false
    }
   }
  },
  {
   "cell_type": "code",
   "execution_count": 10,
   "outputs": [
    {
     "data": {
      "text/plain": "       state      county  norm_total_cases  norm_total_deaths  \\\n2243  Oregon       Baker      3.478473e+05        4148.936170   \n2244  Oregon      Benton      2.042233e+05        2610.794457   \n2245  Oregon   Clackamas      3.211310e+05        5010.475995   \n2246  Oregon     Clatsop      2.042713e+05         754.846006   \n2247  Oregon    Columbia      2.097795e+05        2714.760890   \n2248  Oregon        Coos      1.590836e+05        1540.026382   \n2249  Oregon       Crook      2.572317e+05        5221.715707   \n2250  Oregon       Curry      1.342673e+05        1756.267596   \n2251  Oregon   Deschutes      2.908802e+05        2361.953217   \n2252  Oregon     Douglas      1.626311e+05        3702.498699   \n2253  Oregon     Gilliam      2.456021e+05        3979.057592   \n2254  Oregon       Grant      2.573311e+05        1303.925648   \n2255  Oregon      Harney      2.366088e+05        4044.475330   \n2256  Oregon  Hood River      4.681446e+05        6295.230622   \n2257  Oregon     Jackson      3.363455e+05        3405.007780   \n2258  Oregon   Jefferson      8.823094e+05       11582.331440   \n2259  Oregon   Josephine      1.818338e+05        3121.376340   \n2260  Oregon     Klamath      3.396892e+05        4327.607622   \n2261  Oregon        Lake      3.247983e+05        4457.538107   \n2262  Oregon        Lane      2.341194e+05        2853.597674   \n2263  Oregon     Lincoln      3.254888e+05        6588.876910   \n2264  Oregon        Linn      2.681302e+05        4913.523961   \n2265  Oregon     Malheur      1.491187e+06       25541.566681   \n2266  Oregon      Marion      5.973709e+05       10315.839166   \n2267  Oregon      Morrow      1.248175e+06       12974.087689   \n2268  Oregon   Multnomah      4.280168e+05        7455.936200   \n2269  Oregon        Polk      3.364497e+05        6878.718650   \n2270  Oregon     Sherman      3.551682e+05           0.000000   \n2271  Oregon   Tillamook      1.330108e+05         356.037152   \n2272  Oregon    Umatilla      1.217128e+06       13893.087990   \n2273  Oregon       Union      6.246532e+05        5939.558311   \n2274  Oregon     Unknown               NaN                NaN   \n2275  Oregon     Wallowa      1.896416e+05        6541.375291   \n2276  Oregon       Wasco      4.718418e+05       11830.887219   \n2277  Oregon  Washington      3.771104e+05        3925.212080   \n2278  Oregon     Wheeler      1.027562e+05        3745.583039   \n2279  Oregon     Yamhill      3.481869e+05        5871.090010   \n\n      norm_dec20_cases  norm_dec20_deaths  TotalPop      Income  IncomePerCap  \\\n2243      73141.426783         832.290363   15980.0    264799.0     16.570651   \n2244      38821.969654         315.017734   88249.0    972822.0     11.023604   \n2245      65458.718578         781.324226  399962.0   6185974.0     15.466404   \n2246      37976.381473         123.615896   38021.0    577481.0     15.188475   \n2247      42741.052045         529.806601   50207.0    585872.0     11.669130   \n2248      29888.272596         239.983471   62921.0    568363.0      9.032962   \n2249      50872.588295         902.518764   21717.0    170657.0      7.858222   \n2250      30124.681593         321.758949   22377.0    214926.0      9.604773   \n2251      58458.484722         321.125250  175321.0   1449064.0      8.265205   \n2252      34942.738157         896.110657  107576.0    999898.0      9.294806   \n2253      47015.706806        1308.900524    1910.0     39831.0     20.853927   \n2254      67901.234568         430.018033    7209.0     86283.0     11.968789   \n2255      51660.875608         472.550382    7195.0     85654.0     11.904656   \n2256      84349.115006         941.668846   22938.0    232038.0     10.115878   \n2257      72869.807139         780.402697  212070.0   2021385.0      9.531688   \n2258     159765.711014        1801.206676   22707.0    292205.0     12.868499   \n2259      32160.352131         481.577017   84514.0    666416.0      7.885273   \n2260      68341.967342         564.997425   66018.0    884553.0     13.398664   \n2261      68630.716024         973.485334    7807.0     65593.0      8.401819   \n2262      49196.772232         609.402126  363471.0   4317975.0     11.879834   \n2263      50819.117678        1061.153740   47307.0    763854.0     16.146744   \n2264      55091.927251         735.913574  121074.0   1037043.0      8.565365   \n2265     272561.717235        4815.752276   30421.0    272162.0      8.946517   \n2266     110696.831319        1730.957201  330453.0   3233722.0      9.785724   \n2267     208186.138259        2035.326818   11153.0    109814.0      9.846140   \n2268      86297.194908        1299.243207  788459.0  11278735.0     14.304783   \n2269      63999.698742         932.643788   79666.0    633060.0      7.946426   \n2270      52293.577982           0.000000    1635.0     42074.0     25.733333   \n2271      26509.287926           0.000000   25840.0    360838.0     13.964319   \n2272     201984.726856        2143.713511   76736.0    754218.0      9.828737   \n2273     109364.587369        1309.569934   25810.0    385921.0     14.952383   \n2274               NaN                NaN       NaN         NaN           NaN   \n2275      33595.571096        1354.895105    6864.0    137798.0     20.075466   \n2276      87635.769066        2417.565305   25687.0    397676.0     15.481605   \n2277      74225.052485         674.741422  572071.0   7961909.0     13.917694   \n2278      25371.024735         141.342756    1415.0     33563.0     23.719435   \n2279      67875.075709         793.232128  102366.0   1015494.0      9.920227   \n\n      Poverty(%)  \n2243   15.083855  \n2244   22.421152  \n2245    8.976120  \n2246   12.190090  \n2247   12.315329  \n2248   17.896488  \n2249   15.320864  \n2250   15.408656  \n2251   12.100898  \n2252   17.025995  \n2253    9.900000  \n2254   13.635802  \n2255   17.528770  \n2256   12.123145  \n2257   16.858350  \n2258   20.694856  \n2259   18.646376  \n2260   18.688624  \n2261   20.139311  \n2262   19.230471  \n2263   18.376280  \n2264   16.063929  \n2265   24.298225  \n2266   16.128516  \n2267   14.699050  \n2268   16.474668  \n2269   15.639958  \n2270   13.700000  \n2271   15.512717  \n2272   17.825222  \n2273   17.618597  \n2274         NaN  \n2275   13.748776  \n2276   13.670818  \n2277   10.321202  \n2278   20.600000  \n2279   13.802658  ",
      "text/html": "<div>\n<style scoped>\n    .dataframe tbody tr th:only-of-type {\n        vertical-align: middle;\n    }\n\n    .dataframe tbody tr th {\n        vertical-align: top;\n    }\n\n    .dataframe thead th {\n        text-align: right;\n    }\n</style>\n<table border=\"1\" class=\"dataframe\">\n  <thead>\n    <tr style=\"text-align: right;\">\n      <th></th>\n      <th>state</th>\n      <th>county</th>\n      <th>norm_total_cases</th>\n      <th>norm_total_deaths</th>\n      <th>norm_dec20_cases</th>\n      <th>norm_dec20_deaths</th>\n      <th>TotalPop</th>\n      <th>Income</th>\n      <th>IncomePerCap</th>\n      <th>Poverty(%)</th>\n    </tr>\n  </thead>\n  <tbody>\n    <tr>\n      <th>2243</th>\n      <td>Oregon</td>\n      <td>Baker</td>\n      <td>3.478473e+05</td>\n      <td>4148.936170</td>\n      <td>73141.426783</td>\n      <td>832.290363</td>\n      <td>15980.0</td>\n      <td>264799.0</td>\n      <td>16.570651</td>\n      <td>15.083855</td>\n    </tr>\n    <tr>\n      <th>2244</th>\n      <td>Oregon</td>\n      <td>Benton</td>\n      <td>2.042233e+05</td>\n      <td>2610.794457</td>\n      <td>38821.969654</td>\n      <td>315.017734</td>\n      <td>88249.0</td>\n      <td>972822.0</td>\n      <td>11.023604</td>\n      <td>22.421152</td>\n    </tr>\n    <tr>\n      <th>2245</th>\n      <td>Oregon</td>\n      <td>Clackamas</td>\n      <td>3.211310e+05</td>\n      <td>5010.475995</td>\n      <td>65458.718578</td>\n      <td>781.324226</td>\n      <td>399962.0</td>\n      <td>6185974.0</td>\n      <td>15.466404</td>\n      <td>8.976120</td>\n    </tr>\n    <tr>\n      <th>2246</th>\n      <td>Oregon</td>\n      <td>Clatsop</td>\n      <td>2.042713e+05</td>\n      <td>754.846006</td>\n      <td>37976.381473</td>\n      <td>123.615896</td>\n      <td>38021.0</td>\n      <td>577481.0</td>\n      <td>15.188475</td>\n      <td>12.190090</td>\n    </tr>\n    <tr>\n      <th>2247</th>\n      <td>Oregon</td>\n      <td>Columbia</td>\n      <td>2.097795e+05</td>\n      <td>2714.760890</td>\n      <td>42741.052045</td>\n      <td>529.806601</td>\n      <td>50207.0</td>\n      <td>585872.0</td>\n      <td>11.669130</td>\n      <td>12.315329</td>\n    </tr>\n    <tr>\n      <th>2248</th>\n      <td>Oregon</td>\n      <td>Coos</td>\n      <td>1.590836e+05</td>\n      <td>1540.026382</td>\n      <td>29888.272596</td>\n      <td>239.983471</td>\n      <td>62921.0</td>\n      <td>568363.0</td>\n      <td>9.032962</td>\n      <td>17.896488</td>\n    </tr>\n    <tr>\n      <th>2249</th>\n      <td>Oregon</td>\n      <td>Crook</td>\n      <td>2.572317e+05</td>\n      <td>5221.715707</td>\n      <td>50872.588295</td>\n      <td>902.518764</td>\n      <td>21717.0</td>\n      <td>170657.0</td>\n      <td>7.858222</td>\n      <td>15.320864</td>\n    </tr>\n    <tr>\n      <th>2250</th>\n      <td>Oregon</td>\n      <td>Curry</td>\n      <td>1.342673e+05</td>\n      <td>1756.267596</td>\n      <td>30124.681593</td>\n      <td>321.758949</td>\n      <td>22377.0</td>\n      <td>214926.0</td>\n      <td>9.604773</td>\n      <td>15.408656</td>\n    </tr>\n    <tr>\n      <th>2251</th>\n      <td>Oregon</td>\n      <td>Deschutes</td>\n      <td>2.908802e+05</td>\n      <td>2361.953217</td>\n      <td>58458.484722</td>\n      <td>321.125250</td>\n      <td>175321.0</td>\n      <td>1449064.0</td>\n      <td>8.265205</td>\n      <td>12.100898</td>\n    </tr>\n    <tr>\n      <th>2252</th>\n      <td>Oregon</td>\n      <td>Douglas</td>\n      <td>1.626311e+05</td>\n      <td>3702.498699</td>\n      <td>34942.738157</td>\n      <td>896.110657</td>\n      <td>107576.0</td>\n      <td>999898.0</td>\n      <td>9.294806</td>\n      <td>17.025995</td>\n    </tr>\n    <tr>\n      <th>2253</th>\n      <td>Oregon</td>\n      <td>Gilliam</td>\n      <td>2.456021e+05</td>\n      <td>3979.057592</td>\n      <td>47015.706806</td>\n      <td>1308.900524</td>\n      <td>1910.0</td>\n      <td>39831.0</td>\n      <td>20.853927</td>\n      <td>9.900000</td>\n    </tr>\n    <tr>\n      <th>2254</th>\n      <td>Oregon</td>\n      <td>Grant</td>\n      <td>2.573311e+05</td>\n      <td>1303.925648</td>\n      <td>67901.234568</td>\n      <td>430.018033</td>\n      <td>7209.0</td>\n      <td>86283.0</td>\n      <td>11.968789</td>\n      <td>13.635802</td>\n    </tr>\n    <tr>\n      <th>2255</th>\n      <td>Oregon</td>\n      <td>Harney</td>\n      <td>2.366088e+05</td>\n      <td>4044.475330</td>\n      <td>51660.875608</td>\n      <td>472.550382</td>\n      <td>7195.0</td>\n      <td>85654.0</td>\n      <td>11.904656</td>\n      <td>17.528770</td>\n    </tr>\n    <tr>\n      <th>2256</th>\n      <td>Oregon</td>\n      <td>Hood River</td>\n      <td>4.681446e+05</td>\n      <td>6295.230622</td>\n      <td>84349.115006</td>\n      <td>941.668846</td>\n      <td>22938.0</td>\n      <td>232038.0</td>\n      <td>10.115878</td>\n      <td>12.123145</td>\n    </tr>\n    <tr>\n      <th>2257</th>\n      <td>Oregon</td>\n      <td>Jackson</td>\n      <td>3.363455e+05</td>\n      <td>3405.007780</td>\n      <td>72869.807139</td>\n      <td>780.402697</td>\n      <td>212070.0</td>\n      <td>2021385.0</td>\n      <td>9.531688</td>\n      <td>16.858350</td>\n    </tr>\n    <tr>\n      <th>2258</th>\n      <td>Oregon</td>\n      <td>Jefferson</td>\n      <td>8.823094e+05</td>\n      <td>11582.331440</td>\n      <td>159765.711014</td>\n      <td>1801.206676</td>\n      <td>22707.0</td>\n      <td>292205.0</td>\n      <td>12.868499</td>\n      <td>20.694856</td>\n    </tr>\n    <tr>\n      <th>2259</th>\n      <td>Oregon</td>\n      <td>Josephine</td>\n      <td>1.818338e+05</td>\n      <td>3121.376340</td>\n      <td>32160.352131</td>\n      <td>481.577017</td>\n      <td>84514.0</td>\n      <td>666416.0</td>\n      <td>7.885273</td>\n      <td>18.646376</td>\n    </tr>\n    <tr>\n      <th>2260</th>\n      <td>Oregon</td>\n      <td>Klamath</td>\n      <td>3.396892e+05</td>\n      <td>4327.607622</td>\n      <td>68341.967342</td>\n      <td>564.997425</td>\n      <td>66018.0</td>\n      <td>884553.0</td>\n      <td>13.398664</td>\n      <td>18.688624</td>\n    </tr>\n    <tr>\n      <th>2261</th>\n      <td>Oregon</td>\n      <td>Lake</td>\n      <td>3.247983e+05</td>\n      <td>4457.538107</td>\n      <td>68630.716024</td>\n      <td>973.485334</td>\n      <td>7807.0</td>\n      <td>65593.0</td>\n      <td>8.401819</td>\n      <td>20.139311</td>\n    </tr>\n    <tr>\n      <th>2262</th>\n      <td>Oregon</td>\n      <td>Lane</td>\n      <td>2.341194e+05</td>\n      <td>2853.597674</td>\n      <td>49196.772232</td>\n      <td>609.402126</td>\n      <td>363471.0</td>\n      <td>4317975.0</td>\n      <td>11.879834</td>\n      <td>19.230471</td>\n    </tr>\n    <tr>\n      <th>2263</th>\n      <td>Oregon</td>\n      <td>Lincoln</td>\n      <td>3.254888e+05</td>\n      <td>6588.876910</td>\n      <td>50819.117678</td>\n      <td>1061.153740</td>\n      <td>47307.0</td>\n      <td>763854.0</td>\n      <td>16.146744</td>\n      <td>18.376280</td>\n    </tr>\n    <tr>\n      <th>2264</th>\n      <td>Oregon</td>\n      <td>Linn</td>\n      <td>2.681302e+05</td>\n      <td>4913.523961</td>\n      <td>55091.927251</td>\n      <td>735.913574</td>\n      <td>121074.0</td>\n      <td>1037043.0</td>\n      <td>8.565365</td>\n      <td>16.063929</td>\n    </tr>\n    <tr>\n      <th>2265</th>\n      <td>Oregon</td>\n      <td>Malheur</td>\n      <td>1.491187e+06</td>\n      <td>25541.566681</td>\n      <td>272561.717235</td>\n      <td>4815.752276</td>\n      <td>30421.0</td>\n      <td>272162.0</td>\n      <td>8.946517</td>\n      <td>24.298225</td>\n    </tr>\n    <tr>\n      <th>2266</th>\n      <td>Oregon</td>\n      <td>Marion</td>\n      <td>5.973709e+05</td>\n      <td>10315.839166</td>\n      <td>110696.831319</td>\n      <td>1730.957201</td>\n      <td>330453.0</td>\n      <td>3233722.0</td>\n      <td>9.785724</td>\n      <td>16.128516</td>\n    </tr>\n    <tr>\n      <th>2267</th>\n      <td>Oregon</td>\n      <td>Morrow</td>\n      <td>1.248175e+06</td>\n      <td>12974.087689</td>\n      <td>208186.138259</td>\n      <td>2035.326818</td>\n      <td>11153.0</td>\n      <td>109814.0</td>\n      <td>9.846140</td>\n      <td>14.699050</td>\n    </tr>\n    <tr>\n      <th>2268</th>\n      <td>Oregon</td>\n      <td>Multnomah</td>\n      <td>4.280168e+05</td>\n      <td>7455.936200</td>\n      <td>86297.194908</td>\n      <td>1299.243207</td>\n      <td>788459.0</td>\n      <td>11278735.0</td>\n      <td>14.304783</td>\n      <td>16.474668</td>\n    </tr>\n    <tr>\n      <th>2269</th>\n      <td>Oregon</td>\n      <td>Polk</td>\n      <td>3.364497e+05</td>\n      <td>6878.718650</td>\n      <td>63999.698742</td>\n      <td>932.643788</td>\n      <td>79666.0</td>\n      <td>633060.0</td>\n      <td>7.946426</td>\n      <td>15.639958</td>\n    </tr>\n    <tr>\n      <th>2270</th>\n      <td>Oregon</td>\n      <td>Sherman</td>\n      <td>3.551682e+05</td>\n      <td>0.000000</td>\n      <td>52293.577982</td>\n      <td>0.000000</td>\n      <td>1635.0</td>\n      <td>42074.0</td>\n      <td>25.733333</td>\n      <td>13.700000</td>\n    </tr>\n    <tr>\n      <th>2271</th>\n      <td>Oregon</td>\n      <td>Tillamook</td>\n      <td>1.330108e+05</td>\n      <td>356.037152</td>\n      <td>26509.287926</td>\n      <td>0.000000</td>\n      <td>25840.0</td>\n      <td>360838.0</td>\n      <td>13.964319</td>\n      <td>15.512717</td>\n    </tr>\n    <tr>\n      <th>2272</th>\n      <td>Oregon</td>\n      <td>Umatilla</td>\n      <td>1.217128e+06</td>\n      <td>13893.087990</td>\n      <td>201984.726856</td>\n      <td>2143.713511</td>\n      <td>76736.0</td>\n      <td>754218.0</td>\n      <td>9.828737</td>\n      <td>17.825222</td>\n    </tr>\n    <tr>\n      <th>2273</th>\n      <td>Oregon</td>\n      <td>Union</td>\n      <td>6.246532e+05</td>\n      <td>5939.558311</td>\n      <td>109364.587369</td>\n      <td>1309.569934</td>\n      <td>25810.0</td>\n      <td>385921.0</td>\n      <td>14.952383</td>\n      <td>17.618597</td>\n    </tr>\n    <tr>\n      <th>2274</th>\n      <td>Oregon</td>\n      <td>Unknown</td>\n      <td>NaN</td>\n      <td>NaN</td>\n      <td>NaN</td>\n      <td>NaN</td>\n      <td>NaN</td>\n      <td>NaN</td>\n      <td>NaN</td>\n      <td>NaN</td>\n    </tr>\n    <tr>\n      <th>2275</th>\n      <td>Oregon</td>\n      <td>Wallowa</td>\n      <td>1.896416e+05</td>\n      <td>6541.375291</td>\n      <td>33595.571096</td>\n      <td>1354.895105</td>\n      <td>6864.0</td>\n      <td>137798.0</td>\n      <td>20.075466</td>\n      <td>13.748776</td>\n    </tr>\n    <tr>\n      <th>2276</th>\n      <td>Oregon</td>\n      <td>Wasco</td>\n      <td>4.718418e+05</td>\n      <td>11830.887219</td>\n      <td>87635.769066</td>\n      <td>2417.565305</td>\n      <td>25687.0</td>\n      <td>397676.0</td>\n      <td>15.481605</td>\n      <td>13.670818</td>\n    </tr>\n    <tr>\n      <th>2277</th>\n      <td>Oregon</td>\n      <td>Washington</td>\n      <td>3.771104e+05</td>\n      <td>3925.212080</td>\n      <td>74225.052485</td>\n      <td>674.741422</td>\n      <td>572071.0</td>\n      <td>7961909.0</td>\n      <td>13.917694</td>\n      <td>10.321202</td>\n    </tr>\n    <tr>\n      <th>2278</th>\n      <td>Oregon</td>\n      <td>Wheeler</td>\n      <td>1.027562e+05</td>\n      <td>3745.583039</td>\n      <td>25371.024735</td>\n      <td>141.342756</td>\n      <td>1415.0</td>\n      <td>33563.0</td>\n      <td>23.719435</td>\n      <td>20.600000</td>\n    </tr>\n    <tr>\n      <th>2279</th>\n      <td>Oregon</td>\n      <td>Yamhill</td>\n      <td>3.481869e+05</td>\n      <td>5871.090010</td>\n      <td>67875.075709</td>\n      <td>793.232128</td>\n      <td>102366.0</td>\n      <td>1015494.0</td>\n      <td>9.920227</td>\n      <td>13.802658</td>\n    </tr>\n  </tbody>\n</table>\n</div>"
     },
     "metadata": {},
     "output_type": "execute_result",
     "execution_count": 10
    }
   ],
   "source": [
    "# Merge the dataframes\n",
    "merge_agg = covid_agg.join(census_agg.set_index([\"State\",\"County\"]), on=[\"state\",\"county\"])\n",
    "\n",
    "# Normalize Covid data per 100000 residents per county\n",
    "# ((COVID total cases in county * 100000) / population of county)\n",
    "merge_agg[\"cases\"] = merge_agg[\"cases\"]*100000/merge_agg[\"TotalPop\"]\n",
    "merge_agg[\"deaths\"] = merge_agg[\"deaths\"]*100000/merge_agg[\"TotalPop\"]\n",
    "merge_agg[\"dec2020_cases\"] = merge_agg[\"dec2020_cases\"]*100000/merge_agg[\"TotalPop\"]\n",
    "merge_agg[\"dec2020_deaths\"] = merge_agg[\"dec2020_deaths\"]*100000/merge_agg[\"TotalPop\"]\n",
    "merge_agg.columns=[\"state\", \"county\", \"norm_total_cases\", \"norm_total_deaths\", \"norm_dec20_cases\", \"norm_dec20_deaths\", \"TotalPop\", \"Income\", \"IncomePerCap\", \"Poverty(%)\"]\n",
    "\n",
    "# Merged Data for Oregon State\n",
    "oregon = merge_agg[merge_agg[\"state\"] == \"Oregon\"]\n",
    "oregon"
   ],
   "metadata": {
    "collapsed": false,
    "pycharm": {
     "name": "#%%\n",
     "is_executing": false
    }
   }
  },
  {
   "cell_type": "code",
   "execution_count": 11,
   "outputs": [
    {
     "name": "stdout",
     "text": [
      "0.2870786080213774\n",
      "0.3605391158241334\n",
      "-0.1955172257592511\n",
      "-0.20328993422383196\n",
      "0.29815203013315394\n",
      "0.30272695128314736\n",
      "-0.2279064236544531\n"
     ],
     "output_type": "stream"
    }
   ],
   "source": [
    "# Analysis\n",
    "# Part 1\n",
    "# COVID total cases vs. % population in poverty\n",
    "R = oregon[\"norm_total_cases\"].corr(oregon[\"Poverty(%)\"])\n",
    "print(R)\n",
    "# COVID total deaths vs. % population in poverty\n",
    "R = oregon[\"norm_total_deaths\"].corr(oregon[\"Poverty(%)\"])\n",
    "print(R)\n",
    "# COVID total cases vs. Per Capita Income level\n",
    "R = oregon[\"norm_total_cases\"].corr(oregon[\"IncomePerCap\"])\n",
    "print(R)\n",
    "# COVID total deaths vs. Per Capita Income level\n",
    "R = oregon[\"norm_total_deaths\"].corr(oregon[\"IncomePerCap\"])\n",
    "print(R)\n",
    "# COVID cases during December 2020 vs. % population in poverty\n",
    "R = oregon[\"norm_dec20_cases\"].corr(oregon[\"Poverty(%)\"])\n",
    "print(R)\n",
    "# COVID deaths during December 2020 vs. % population in poverty\n",
    "R = oregon[\"norm_dec20_deaths\"].corr(oregon[\"Poverty(%)\"])\n",
    "print(R)\n",
    "# COVID cases during December 2020 vs. Per Capita Income level\n",
    "R = oregon[\"norm_dec20_cases\"].corr(oregon[\"IncomePerCap\"])\n",
    "print(R)\n",
    "# COVID deaths during December 2020 vs. Per Capita Income level\n",
    "R = oregon[\"norm_dec20_deaths\"].corr(oregon[\"IncomePerCap\"])"
   ],
   "metadata": {
    "collapsed": false,
    "pycharm": {
     "name": "#%%\n",
     "is_executing": false
    }
   }
  },
  {
   "cell_type": "code",
   "execution_count": 12,
   "outputs": [
    {
     "name": "stdout",
     "text": [
      "0.2064218120793579\n",
      "0.27952864246240644\n",
      "-0.08858849770483875\n",
      "-0.06279029278876062\n",
      "0.07203914832374625\n",
      "0.21320194366091585\n",
      "-0.04616216166088188\n"
     ],
     "output_type": "stream"
    }
   ],
   "source": [
    "# Part 2\n",
    "# COVID total cases vs. % population in poverty\n",
    "R = merge_agg[\"norm_total_cases\"].corr(merge_agg[\"Poverty(%)\"])\n",
    "print(R)\n",
    "# COVID total deaths vs. % population in poverty\n",
    "R = merge_agg[\"norm_total_deaths\"].corr(merge_agg[\"Poverty(%)\"])\n",
    "print(R)\n",
    "# COVID total cases vs. Per Capita Income level\n",
    "R = merge_agg[\"norm_total_cases\"].corr(merge_agg[\"IncomePerCap\"])\n",
    "print(R)\n",
    "# COVID total deaths vs. Per Capita Income level\n",
    "R = merge_agg[\"norm_total_deaths\"].corr(merge_agg[\"IncomePerCap\"])\n",
    "print(R)\n",
    "# COVID cases during December 2020 vs. % population in poverty\n",
    "R = merge_agg[\"norm_dec20_cases\"].corr(merge_agg[\"Poverty(%)\"])\n",
    "print(R)\n",
    "# COVID deaths during December 2020 vs. % population in poverty\n",
    "R = merge_agg[\"norm_dec20_deaths\"].corr(merge_agg[\"Poverty(%)\"])\n",
    "print(R)\n",
    "# COVID cases during December 2020 vs. Per Capita Income level\n",
    "R = merge_agg[\"norm_dec20_cases\"].corr(merge_agg[\"IncomePerCap\"])\n",
    "print(R)\n",
    "# COVID deaths during December 2020 vs. Per Capita Income level\n",
    "R = merge_agg[\"norm_dec20_deaths\"].corr(merge_agg[\"IncomePerCap\"])\n"
   ],
   "metadata": {
    "collapsed": false,
    "pycharm": {
     "name": "#%%\n",
     "is_executing": false
    }
   }
  }
 ],
 "metadata": {
  "kernelspec": {
   "display_name": "Python 3",
   "language": "python",
   "name": "python3"
  },
  "language_info": {
   "codemirror_mode": {
    "name": "ipython",
    "version": 2
   },
   "file_extension": ".py",
   "mimetype": "text/x-python",
   "name": "python",
   "nbconvert_exporter": "python",
   "pygments_lexer": "ipython2",
   "version": "2.7.6"
  },
  "pycharm": {
   "stem_cell": {
    "cell_type": "raw",
    "source": [],
    "metadata": {
     "collapsed": false
    }
   }
  }
 },
 "nbformat": 4,
 "nbformat_minor": 0
}